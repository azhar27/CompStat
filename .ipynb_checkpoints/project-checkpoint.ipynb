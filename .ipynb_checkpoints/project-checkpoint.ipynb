{
 "cells": [
  {
   "cell_type": "code",
   "execution_count": 65,
   "metadata": {},
   "outputs": [],
   "source": [
    "#install.packages(\"ranger\")\n",
    "#install.packages(\"tidyverse\")\n",
    "#install.packages(\"rlang\")\n",
    "#install.packages(\"tree\")\n",
    "#install.packages(\"rpart\")\n",
    "#install.packages(\"rpart.plot\")\n",
    "#install.packages(\"party\")\n",
    "#install.packages(\"lettice\")\n",
    "\n",
    "library(tree)\n",
    "library(rpart)\n",
    "library(rpart.plot)\n",
    "library(ggplot2)\n",
    "library(rsample)      # data splitting \n",
    "library(randomForest) # basic implementation\n",
    "library(ranger)       # a faster implementation of randomForest\n",
    "library(caret)        # an aggregator package for performing many machine learning models\n",
    "#library(h2o) "
   ]
  },
  {
   "cell_type": "markdown",
   "metadata": {},
   "source": [
    "## Data\n",
    "\n",
    "The sample was drawn in two stages. First, from the 30 largest cities and towns (representing about two-thirds of the population), author chose 150 sampling clusters at random, with the number of clusters chosen in each city or town approximately proportional to its share of the combined population of the 30 cities/towns. For each of the 150 clusters, he selected the school where students from that cluster attend 8th grade, the final year of primary school. From each school he selected 15 boys at random from a list of all currently enrolled 8th grade students. All 2250 students were administered a survey between April and May 2001, close to the end of the academic year, gathering information on a variety of individual and household characteristics, as well as some simple questions on expected earnings by education.\n",
    "\n",
    "\n",
    "A second survey was conducted shortly after the beginning of the next academic term (October 2001), with respondents interviewed again about perceived returns to education and current enrolment status, as well as health-related behaviors. A third round, follow-up survey was conducted in May and June of 2005, by which time students should have been finishing their last year of secondary school; for the approximately 120 students still enrolled in 2005 but not yet in their final year of school (due primarily to grade repetition), he conducted follow-ups for the next 2 years. He was able to re-interview 94% of youths in round 2 and 89% in round 3 (though for the educational outcomes, we were able to track students administratively even if we did not interview them, which reduced attrition to 3 and 9%, respectively). Attrition rates were very similar for treatment and control youths; in round 2, he was able to re-interview 1053 of the 1125 control students and 1057 of the 1125 treatment students, and in round 3, he was able to re-interview 1006 of the controls and 1005 of the treatment sample. "
   ]
  },
  {
   "cell_type": "markdown",
   "metadata": {},
   "source": [
    "## Descriptive statistics \n",
    "\n"
   ]
  },
  {
   "cell_type": "markdown",
   "metadata": {},
   "source": [
    "treat -  treatment \n",
    "ffs - father finished secondary school\n",
    "lfi2 - log family income in round 2\n",
    "fim - family income missing\n",
    "perf - perforamnce at school\n",
    "retedu - return to education \n",
    "returntosch - retuned to school\n",
    "cwork - currently works (2 for round 2, 3 for round 3)\n",
    "hpw - hours worked per week (2 for round 2,3 for round 3)\n",
    "epw - earnings per week (2 for round 2, 3 for round 3)\n",
    "dipw - disposable income per week (2 for round 2, 3 for round 3)\n",
    "csmoke - currently smokes (2 for round 2, 3 for round 3)\n",
    "cda - currently drinks alchohol (2 for round 2, 3 for round 3)\n",
    "droncew - drinks at least once a week (2 for round 2, 3 for round 3)\n",
    "drevd - drinks every day (2 for round 2, 3 for round 3)\n",
    "finhigh - finished high school (2 for round 2, 3 for round 3)\n",
    "yearssch - completed years of schooling (2 for round 2, 3 for round 3)\n",
    "drfr - drink frequency 1-4 (2 for round 2, 3 for round 3)\n",
    "patient - patience level of the student (1-5)\n",
    "frpsmoke - fraction peers smoke (2 for round 2, 3 for round 3)\n",
    "frpdrink - fraction of peers drink (2 for round 2, 3 for round 3)\n",
    "risk - risk \n",
    "smkbad - smoking is bad for health\n",
    "drinkbad- drinking is bad for helath \n",
    "discout - implied discount rate"
   ]
  },
  {
   "cell_type": "code",
   "execution_count": 53,
   "metadata": {
    "scrolled": true
   },
   "outputs": [],
   "source": [
    "source('auxiliary/dgp.r')"
   ]
  },
  {
   "cell_type": "code",
   "execution_count": 54,
   "metadata": {},
   "outputs": [
    {
     "data": {
      "text/html": [
       "<table>\n",
       "<thead><tr><th scope=col>ffs</th><th scope=col>lfi</th><th scope=col>perf</th><th scope=col>age</th><th scope=col>returntosch</th><th scope=col>cwork2</th><th scope=col>hpw2</th><th scope=col>epw2</th><th scope=col>retedu</th><th scope=col>dipw2</th><th scope=col>treat</th><th scope=col>frpsmoke2</th><th scope=col>frpdrink2</th></tr></thead>\n",
       "<tbody>\n",
       "\t<tr><td>did not finish</td><td>8.524704      </td><td>-0.7946222    </td><td>14.33064      </td><td>returned      </td><td>0             </td><td>  0.00000     </td><td> 0.00000      </td><td>273.010664    </td><td> 44.26785     </td><td>control       </td><td>3             </td><td>4             </td></tr>\n",
       "\t<tr><td>did not finish</td><td>8.871057      </td><td> 2.0864915    </td><td>14.78671      </td><td>did not return</td><td>0             </td><td>  0.00000     </td><td> 0.00000      </td><td>672.162386    </td><td> 13.94454     </td><td>control       </td><td>1             </td><td>3             </td></tr>\n",
       "\t<tr><td>did not finish</td><td>8.245525      </td><td> 3.1926572    </td><td>14.80689      </td><td>did not return</td><td>0             </td><td>  0.00000     </td><td> 0.00000      </td><td>268.179526    </td><td>133.28284     </td><td>control       </td><td>3             </td><td>2             </td></tr>\n",
       "\t<tr><td>did not finish</td><td>7.982495      </td><td> 2.9534596    </td><td>15.45117      </td><td>did not return</td><td>0             </td><td>  0.00000     </td><td> 0.00000      </td><td>  8.034613    </td><td>132.86859     </td><td>control       </td><td>2             </td><td>4             </td></tr>\n",
       "\t<tr><td>did not finish</td><td>8.175648      </td><td> 2.0328644    </td><td>14.14109      </td><td>returned      </td><td>1             </td><td>-14.00178     </td><td>72.26864      </td><td>980.400427    </td><td> 63.75360     </td><td>control       </td><td>4             </td><td>2             </td></tr>\n",
       "\t<tr><td>finished      </td><td>8.360575      </td><td> 1.3593147    </td><td>14.49029      </td><td>returned      </td><td>0             </td><td>  0.00000     </td><td> 0.00000      </td><td>  4.281980    </td><td> 26.98282     </td><td>control       </td><td>2             </td><td>3             </td></tr>\n",
       "</tbody>\n",
       "</table>\n"
      ],
      "text/latex": [
       "\\begin{tabular}{r|lllllllllllll}\n",
       " ffs & lfi & perf & age & returntosch & cwork2 & hpw2 & epw2 & retedu & dipw2 & treat & frpsmoke2 & frpdrink2\\\\\n",
       "\\hline\n",
       "\t did not finish & 8.524704       & -0.7946222     & 14.33064       & returned       & 0              &   0.00000      &  0.00000       & 273.010664     &  44.26785      & control        & 3              & 4             \\\\\n",
       "\t did not finish & 8.871057       &  2.0864915     & 14.78671       & did not return & 0              &   0.00000      &  0.00000       & 672.162386     &  13.94454      & control        & 1              & 3             \\\\\n",
       "\t did not finish & 8.245525       &  3.1926572     & 14.80689       & did not return & 0              &   0.00000      &  0.00000       & 268.179526     & 133.28284      & control        & 3              & 2             \\\\\n",
       "\t did not finish & 7.982495       &  2.9534596     & 15.45117       & did not return & 0              &   0.00000      &  0.00000       &   8.034613     & 132.86859      & control        & 2              & 4             \\\\\n",
       "\t did not finish & 8.175648       &  2.0328644     & 14.14109       & returned       & 1              & -14.00178      & 72.26864       & 980.400427     &  63.75360      & control        & 4              & 2             \\\\\n",
       "\t finished       & 8.360575       &  1.3593147     & 14.49029       & returned       & 0              &   0.00000      &  0.00000       &   4.281980     &  26.98282      & control        & 2              & 3             \\\\\n",
       "\\end{tabular}\n"
      ],
      "text/markdown": [
       "\n",
       "| ffs | lfi | perf | age | returntosch | cwork2 | hpw2 | epw2 | retedu | dipw2 | treat | frpsmoke2 | frpdrink2 |\n",
       "|---|---|---|---|---|---|---|---|---|---|---|---|---|\n",
       "| did not finish | 8.524704       | -0.7946222     | 14.33064       | returned       | 0              |   0.00000      |  0.00000       | 273.010664     |  44.26785      | control        | 3              | 4              |\n",
       "| did not finish | 8.871057       |  2.0864915     | 14.78671       | did not return | 0              |   0.00000      |  0.00000       | 672.162386     |  13.94454      | control        | 1              | 3              |\n",
       "| did not finish | 8.245525       |  3.1926572     | 14.80689       | did not return | 0              |   0.00000      |  0.00000       | 268.179526     | 133.28284      | control        | 3              | 2              |\n",
       "| did not finish | 7.982495       |  2.9534596     | 15.45117       | did not return | 0              |   0.00000      |  0.00000       |   8.034613     | 132.86859      | control        | 2              | 4              |\n",
       "| did not finish | 8.175648       |  2.0328644     | 14.14109       | returned       | 1              | -14.00178      | 72.26864       | 980.400427     |  63.75360      | control        | 4              | 2              |\n",
       "| finished       | 8.360575       |  1.3593147     | 14.49029       | returned       | 0              |   0.00000      |  0.00000       |   4.281980     |  26.98282      | control        | 2              | 3              |\n",
       "\n"
      ],
      "text/plain": [
       "  ffs            lfi      perf       age      returntosch    cwork2 hpw2     \n",
       "1 did not finish 8.524704 -0.7946222 14.33064 returned       0        0.00000\n",
       "2 did not finish 8.871057  2.0864915 14.78671 did not return 0        0.00000\n",
       "3 did not finish 8.245525  3.1926572 14.80689 did not return 0        0.00000\n",
       "4 did not finish 7.982495  2.9534596 15.45117 did not return 0        0.00000\n",
       "5 did not finish 8.175648  2.0328644 14.14109 returned       1      -14.00178\n",
       "6 finished       8.360575  1.3593147 14.49029 returned       0        0.00000\n",
       "  epw2     retedu     dipw2     treat   frpsmoke2 frpdrink2\n",
       "1  0.00000 273.010664  44.26785 control 3         4        \n",
       "2  0.00000 672.162386  13.94454 control 1         3        \n",
       "3  0.00000 268.179526 133.28284 control 3         2        \n",
       "4  0.00000   8.034613 132.86859 control 2         4        \n",
       "5 72.26864 980.400427  63.75360 control 4         2        \n",
       "6  0.00000   4.281980  26.98282 control 2         3        "
      ]
     },
     "metadata": {},
     "output_type": "display_data"
    },
    {
     "data": {
      "text/html": [
       "<table>\n",
       "<thead><tr><th scope=col>csmoke2</th><th scope=col>cda2</th><th scope=col>droncew2</th><th scope=col>drevd2</th><th scope=col>drfr2</th></tr></thead>\n",
       "<tbody>\n",
       "\t<tr><td>does not smoke            </td><td>drinks                    </td><td>does not drink once a week</td><td>does not dirnk every day  </td><td>2                         </td></tr>\n",
       "\t<tr><td>does not smoke            </td><td>drinks                    </td><td>drinks once a week        </td><td>does not dirnk every day  </td><td>2                         </td></tr>\n",
       "\t<tr><td>does not smoke            </td><td>does not drink            </td><td>does not drink once a week</td><td>does not dirnk every day  </td><td>1                         </td></tr>\n",
       "\t<tr><td>does not smoke            </td><td>does not drink            </td><td>does not drink once a week</td><td>does not dirnk every day  </td><td>1                         </td></tr>\n",
       "\t<tr><td>does not smoke            </td><td>drinks                    </td><td>does not drink once a week</td><td>does not dirnk every day  </td><td>3                         </td></tr>\n",
       "\t<tr><td>does not smoke            </td><td>does not drink            </td><td>does not drink once a week</td><td>does not dirnk every day  </td><td>2                         </td></tr>\n",
       "</tbody>\n",
       "</table>\n"
      ],
      "text/latex": [
       "\\begin{tabular}{r|lllll}\n",
       " csmoke2 & cda2 & droncew2 & drevd2 & drfr2\\\\\n",
       "\\hline\n",
       "\t does not smoke             & drinks                     & does not drink once a week & does not dirnk every day   & 2                         \\\\\n",
       "\t does not smoke             & drinks                     & drinks once a week         & does not dirnk every day   & 2                         \\\\\n",
       "\t does not smoke             & does not drink             & does not drink once a week & does not dirnk every day   & 1                         \\\\\n",
       "\t does not smoke             & does not drink             & does not drink once a week & does not dirnk every day   & 1                         \\\\\n",
       "\t does not smoke             & drinks                     & does not drink once a week & does not dirnk every day   & 3                         \\\\\n",
       "\t does not smoke             & does not drink             & does not drink once a week & does not dirnk every day   & 2                         \\\\\n",
       "\\end{tabular}\n"
      ],
      "text/markdown": [
       "\n",
       "| csmoke2 | cda2 | droncew2 | drevd2 | drfr2 |\n",
       "|---|---|---|---|---|\n",
       "| does not smoke             | drinks                     | does not drink once a week | does not dirnk every day   | 2                          |\n",
       "| does not smoke             | drinks                     | drinks once a week         | does not dirnk every day   | 2                          |\n",
       "| does not smoke             | does not drink             | does not drink once a week | does not dirnk every day   | 1                          |\n",
       "| does not smoke             | does not drink             | does not drink once a week | does not dirnk every day   | 1                          |\n",
       "| does not smoke             | drinks                     | does not drink once a week | does not dirnk every day   | 3                          |\n",
       "| does not smoke             | does not drink             | does not drink once a week | does not dirnk every day   | 2                          |\n",
       "\n"
      ],
      "text/plain": [
       "  csmoke2        cda2           droncew2                  \n",
       "1 does not smoke drinks         does not drink once a week\n",
       "2 does not smoke drinks         drinks once a week        \n",
       "3 does not smoke does not drink does not drink once a week\n",
       "4 does not smoke does not drink does not drink once a week\n",
       "5 does not smoke drinks         does not drink once a week\n",
       "6 does not smoke does not drink does not drink once a week\n",
       "  drevd2                   drfr2\n",
       "1 does not dirnk every day 2    \n",
       "2 does not dirnk every day 2    \n",
       "3 does not dirnk every day 1    \n",
       "4 does not dirnk every day 1    \n",
       "5 does not dirnk every day 3    \n",
       "6 does not dirnk every day 2    "
      ]
     },
     "metadata": {},
     "output_type": "display_data"
    }
   ],
   "source": [
    "head(X2)\n",
    "head(Y2)"
   ]
  },
  {
   "cell_type": "code",
   "execution_count": 55,
   "metadata": {},
   "outputs": [
    {
     "data": {
      "text/html": [
       "<table>\n",
       "<thead><tr><th scope=col>ffs</th><th scope=col>lfi</th><th scope=col>perf</th><th scope=col>age</th><th scope=col>treat</th><th scope=col>finhigh</th><th scope=col>yearssch</th><th scope=col>cwork3</th><th scope=col>hpw3</th><th scope=col>epw3</th><th scope=col>dipw3</th><th scope=col>patient3</th><th scope=col>frpsmoke3</th><th scope=col>frpdrink3</th><th scope=col>risk</th><th scope=col>smkbad</th><th scope=col>drinkbad</th></tr></thead>\n",
       "<tbody>\n",
       "\t<tr><td>finished      </td><td>7.499553      </td><td> 2.1086873    </td><td>13.62245      </td><td>treated       </td><td>finished      </td><td> 8.839297     </td><td>0             </td><td> 0.00000      </td><td>   0.000      </td><td>272.58468     </td><td>1             </td><td>2             </td><td>4             </td><td>2             </td><td>4             </td><td>3             </td></tr>\n",
       "\t<tr><td>did not finish</td><td>8.506154      </td><td> 0.7459230    </td><td>13.69869      </td><td>treated       </td><td>finished      </td><td>10.612409     </td><td>1             </td><td>15.90987      </td><td> 390.184      </td><td> 91.72497     </td><td>3             </td><td>3             </td><td>4             </td><td>2             </td><td>4             </td><td>2             </td></tr>\n",
       "\t<tr><td>did not finish</td><td>8.463895      </td><td>-0.3198366    </td><td>14.02107      </td><td>treated       </td><td>finished      </td><td> 8.803169     </td><td>0             </td><td> 0.00000      </td><td>   0.000      </td><td>313.76777     </td><td>3             </td><td>3             </td><td>4             </td><td>2             </td><td>4             </td><td>3             </td></tr>\n",
       "\t<tr><td>did not finish</td><td>8.485054      </td><td> 0.3812995    </td><td>13.97146      </td><td>control       </td><td>did not finish</td><td>10.295225     </td><td>1             </td><td>10.33676      </td><td>2014.026      </td><td>129.58729     </td><td>1             </td><td>3             </td><td>4             </td><td>2             </td><td>3             </td><td>3             </td></tr>\n",
       "\t<tr><td>finished      </td><td>8.024828      </td><td> 1.3651165    </td><td>14.81623      </td><td>control       </td><td>did not finish</td><td>11.531375     </td><td>0             </td><td> 0.00000      </td><td>   0.000      </td><td>305.82865     </td><td>2             </td><td>3             </td><td>3             </td><td>4             </td><td>4             </td><td>2             </td></tr>\n",
       "\t<tr><td>finished      </td><td>7.465828      </td><td> 0.1697100    </td><td>14.46030      </td><td>control       </td><td>finished      </td><td>11.508502     </td><td>0             </td><td> 0.00000      </td><td>   0.000      </td><td> 23.66618     </td><td>4             </td><td>4             </td><td>2             </td><td>3             </td><td>3             </td><td>3             </td></tr>\n",
       "</tbody>\n",
       "</table>\n"
      ],
      "text/latex": [
       "\\begin{tabular}{r|lllllllllllllllll}\n",
       " ffs & lfi & perf & age & treat & finhigh & yearssch & cwork3 & hpw3 & epw3 & dipw3 & patient3 & frpsmoke3 & frpdrink3 & risk & smkbad & drinkbad\\\\\n",
       "\\hline\n",
       "\t finished       & 7.499553       &  2.1086873     & 13.62245       & treated        & finished       &  8.839297      & 0              &  0.00000       &    0.000       & 272.58468      & 1              & 2              & 4              & 2              & 4              & 3             \\\\\n",
       "\t did not finish & 8.506154       &  0.7459230     & 13.69869       & treated        & finished       & 10.612409      & 1              & 15.90987       &  390.184       &  91.72497      & 3              & 3              & 4              & 2              & 4              & 2             \\\\\n",
       "\t did not finish & 8.463895       & -0.3198366     & 14.02107       & treated        & finished       &  8.803169      & 0              &  0.00000       &    0.000       & 313.76777      & 3              & 3              & 4              & 2              & 4              & 3             \\\\\n",
       "\t did not finish & 8.485054       &  0.3812995     & 13.97146       & control        & did not finish & 10.295225      & 1              & 10.33676       & 2014.026       & 129.58729      & 1              & 3              & 4              & 2              & 3              & 3             \\\\\n",
       "\t finished       & 8.024828       &  1.3651165     & 14.81623       & control        & did not finish & 11.531375      & 0              &  0.00000       &    0.000       & 305.82865      & 2              & 3              & 3              & 4              & 4              & 2             \\\\\n",
       "\t finished       & 7.465828       &  0.1697100     & 14.46030       & control        & finished       & 11.508502      & 0              &  0.00000       &    0.000       &  23.66618      & 4              & 4              & 2              & 3              & 3              & 3             \\\\\n",
       "\\end{tabular}\n"
      ],
      "text/markdown": [
       "\n",
       "| ffs | lfi | perf | age | treat | finhigh | yearssch | cwork3 | hpw3 | epw3 | dipw3 | patient3 | frpsmoke3 | frpdrink3 | risk | smkbad | drinkbad |\n",
       "|---|---|---|---|---|---|---|---|---|---|---|---|---|---|---|---|---|\n",
       "| finished       | 7.499553       |  2.1086873     | 13.62245       | treated        | finished       |  8.839297      | 0              |  0.00000       |    0.000       | 272.58468      | 1              | 2              | 4              | 2              | 4              | 3              |\n",
       "| did not finish | 8.506154       |  0.7459230     | 13.69869       | treated        | finished       | 10.612409      | 1              | 15.90987       |  390.184       |  91.72497      | 3              | 3              | 4              | 2              | 4              | 2              |\n",
       "| did not finish | 8.463895       | -0.3198366     | 14.02107       | treated        | finished       |  8.803169      | 0              |  0.00000       |    0.000       | 313.76777      | 3              | 3              | 4              | 2              | 4              | 3              |\n",
       "| did not finish | 8.485054       |  0.3812995     | 13.97146       | control        | did not finish | 10.295225      | 1              | 10.33676       | 2014.026       | 129.58729      | 1              | 3              | 4              | 2              | 3              | 3              |\n",
       "| finished       | 8.024828       |  1.3651165     | 14.81623       | control        | did not finish | 11.531375      | 0              |  0.00000       |    0.000       | 305.82865      | 2              | 3              | 3              | 4              | 4              | 2              |\n",
       "| finished       | 7.465828       |  0.1697100     | 14.46030       | control        | finished       | 11.508502      | 0              |  0.00000       |    0.000       |  23.66618      | 4              | 4              | 2              | 3              | 3              | 3              |\n",
       "\n"
      ],
      "text/plain": [
       "  ffs            lfi      perf       age      treat   finhigh        yearssch \n",
       "1 finished       7.499553  2.1086873 13.62245 treated finished        8.839297\n",
       "2 did not finish 8.506154  0.7459230 13.69869 treated finished       10.612409\n",
       "3 did not finish 8.463895 -0.3198366 14.02107 treated finished        8.803169\n",
       "4 did not finish 8.485054  0.3812995 13.97146 control did not finish 10.295225\n",
       "5 finished       8.024828  1.3651165 14.81623 control did not finish 11.531375\n",
       "6 finished       7.465828  0.1697100 14.46030 control finished       11.508502\n",
       "  cwork3 hpw3     epw3     dipw3     patient3 frpsmoke3 frpdrink3 risk smkbad\n",
       "1 0       0.00000    0.000 272.58468 1        2         4         2    4     \n",
       "2 1      15.90987  390.184  91.72497 3        3         4         2    4     \n",
       "3 0       0.00000    0.000 313.76777 3        3         4         2    4     \n",
       "4 1      10.33676 2014.026 129.58729 1        3         4         2    3     \n",
       "5 0       0.00000    0.000 305.82865 2        3         3         4    4     \n",
       "6 0       0.00000    0.000  23.66618 4        4         2         3    3     \n",
       "  drinkbad\n",
       "1 3       \n",
       "2 2       \n",
       "3 3       \n",
       "4 3       \n",
       "5 2       \n",
       "6 3       "
      ]
     },
     "metadata": {},
     "output_type": "display_data"
    },
    {
     "data": {
      "text/html": [
       "<table>\n",
       "<thead><tr><th scope=col>csmoke3</th><th scope=col>cda3</th><th scope=col>droncew3</th><th scope=col>drevd3</th><th scope=col>drfr3</th></tr></thead>\n",
       "<tbody>\n",
       "\t<tr><td>does not smoke            </td><td>drinks                    </td><td>does not drink once a week</td><td>does not drink every day  </td><td>2                         </td></tr>\n",
       "\t<tr><td>does not smoke            </td><td>drinks                    </td><td>does not drink once a week</td><td>does not drink every day  </td><td>2                         </td></tr>\n",
       "\t<tr><td>does not smoke            </td><td>does not drink            </td><td>drinks once a week        </td><td>drinks every day          </td><td>1                         </td></tr>\n",
       "\t<tr><td>does not smoke            </td><td>drinks                    </td><td>drinks once a week        </td><td>does not drink every day  </td><td>1                         </td></tr>\n",
       "\t<tr><td>does not smoke            </td><td>drinks                    </td><td>does not drink once a week</td><td>does not drink every day  </td><td>3                         </td></tr>\n",
       "\t<tr><td>does not smoke            </td><td>drinks                    </td><td>does not drink once a week</td><td>does not drink every day  </td><td>1                         </td></tr>\n",
       "</tbody>\n",
       "</table>\n"
      ],
      "text/latex": [
       "\\begin{tabular}{r|lllll}\n",
       " csmoke3 & cda3 & droncew3 & drevd3 & drfr3\\\\\n",
       "\\hline\n",
       "\t does not smoke             & drinks                     & does not drink once a week & does not drink every day   & 2                         \\\\\n",
       "\t does not smoke             & drinks                     & does not drink once a week & does not drink every day   & 2                         \\\\\n",
       "\t does not smoke             & does not drink             & drinks once a week         & drinks every day           & 1                         \\\\\n",
       "\t does not smoke             & drinks                     & drinks once a week         & does not drink every day   & 1                         \\\\\n",
       "\t does not smoke             & drinks                     & does not drink once a week & does not drink every day   & 3                         \\\\\n",
       "\t does not smoke             & drinks                     & does not drink once a week & does not drink every day   & 1                         \\\\\n",
       "\\end{tabular}\n"
      ],
      "text/markdown": [
       "\n",
       "| csmoke3 | cda3 | droncew3 | drevd3 | drfr3 |\n",
       "|---|---|---|---|---|\n",
       "| does not smoke             | drinks                     | does not drink once a week | does not drink every day   | 2                          |\n",
       "| does not smoke             | drinks                     | does not drink once a week | does not drink every day   | 2                          |\n",
       "| does not smoke             | does not drink             | drinks once a week         | drinks every day           | 1                          |\n",
       "| does not smoke             | drinks                     | drinks once a week         | does not drink every day   | 1                          |\n",
       "| does not smoke             | drinks                     | does not drink once a week | does not drink every day   | 3                          |\n",
       "| does not smoke             | drinks                     | does not drink once a week | does not drink every day   | 1                          |\n",
       "\n"
      ],
      "text/plain": [
       "  csmoke3        cda3           droncew3                  \n",
       "1 does not smoke drinks         does not drink once a week\n",
       "2 does not smoke drinks         does not drink once a week\n",
       "3 does not smoke does not drink drinks once a week        \n",
       "4 does not smoke drinks         drinks once a week        \n",
       "5 does not smoke drinks         does not drink once a week\n",
       "6 does not smoke drinks         does not drink once a week\n",
       "  drevd3                   drfr3\n",
       "1 does not drink every day 2    \n",
       "2 does not drink every day 2    \n",
       "3 drinks every day         1    \n",
       "4 does not drink every day 1    \n",
       "5 does not drink every day 3    \n",
       "6 does not drink every day 1    "
      ]
     },
     "metadata": {},
     "output_type": "display_data"
    }
   ],
   "source": [
    "head(X3)\n",
    "head(Y3)"
   ]
  },
  {
   "cell_type": "code",
   "execution_count": 56,
   "metadata": {},
   "outputs": [
    {
     "name": "stdout",
     "output_type": "stream",
     "text": [
      "[1] \"Structure of the independent variables in the second round\"\n",
      "'data.frame':\t2011 obs. of  13 variables:\n",
      " $ ffs        : Factor w/ 2 levels \"did not finish\",..: 1 1 1 1 1 2 2 1 1 2 ...\n",
      " $ lfi        : num  8.52 8.87 8.25 7.98 8.18 ...\n",
      " $ perf       : num  -0.795 2.086 3.193 2.953 2.033 ...\n",
      " $ age        : num  14.3 14.8 14.8 15.5 14.1 ...\n",
      " $ returntosch: Factor w/ 2 levels \"did not return\",..: 2 1 1 1 2 2 2 2 2 1 ...\n",
      " $ cwork2     : Factor w/ 2 levels \"0\",\"1\": 1 1 1 1 2 1 1 1 1 1 ...\n",
      " $ hpw2       : num  0 0 0 0 -14 ...\n",
      " $ epw2       : num  0 0 0 0 72.3 ...\n",
      " $ retedu     : num  273.01 672.16 268.18 8.03 980.4 ...\n",
      " $ dipw2      : num  44.3 13.9 133.3 132.9 63.8 ...\n",
      " $ treat      : Factor w/ 2 levels \"control\",\"treated\": 1 1 1 1 1 1 1 2 2 2 ...\n",
      " $ frpsmoke2  : Factor w/ 5 levels \"1\",\"2\",\"3\",\"4\",..: 3 1 3 2 4 2 4 3 2 2 ...\n",
      " $ frpdrink2  : Factor w/ 5 levels \"1\",\"2\",\"3\",\"4\",..: 4 3 2 4 2 3 2 2 3 4 ...\n",
      "[1] \"Structure of the independent variables in the third round\"\n",
      "'data.frame':\t2011 obs. of  17 variables:\n",
      " $ ffs      : Factor w/ 2 levels \"did not finish\",..: 2 1 1 1 2 2 2 2 1 1 ...\n",
      " $ lfi      : num  7.5 8.51 8.46 8.49 8.02 ...\n",
      " $ perf     : num  2.109 0.746 -0.32 0.381 1.365 ...\n",
      " $ age      : num  13.6 13.7 14 14 14.8 ...\n",
      " $ treat    : Factor w/ 2 levels \"control\",\"treated\": 2 2 2 1 1 1 1 2 1 2 ...\n",
      " $ finhigh  : Factor w/ 2 levels \"did not finish\",..: 2 2 2 1 1 2 2 1 1 1 ...\n",
      " $ yearssch : num  8.84 10.61 8.8 10.3 11.53 ...\n",
      " $ cwork3   : Factor w/ 2 levels \"0\",\"1\": 1 2 1 2 1 1 1 1 1 2 ...\n",
      " $ hpw3     : num  0 15.9 0 10.3 0 ...\n",
      " $ epw3     : num  0 390 0 2014 0 ...\n",
      " $ dipw3    : num  272.6 91.7 313.8 129.6 305.8 ...\n",
      " $ patient3 : Factor w/ 5 levels \"1\",\"2\",\"3\",\"4\",..: 1 3 3 1 2 4 3 2 2 2 ...\n",
      " $ frpsmoke3: Factor w/ 5 levels \"1\",\"2\",\"3\",\"4\",..: 2 3 3 3 3 4 4 4 4 3 ...\n",
      " $ frpdrink3: Factor w/ 5 levels \"1\",\"2\",\"3\",\"4\",..: 4 4 4 4 3 2 3 5 5 3 ...\n",
      " $ risk     : Factor w/ 5 levels \"1\",\"2\",\"3\",\"4\",..: 2 2 2 2 4 3 1 3 3 3 ...\n",
      " $ smkbad   : Factor w/ 4 levels \"2\",\"3\",\"4\",\"5\": 3 3 3 2 3 2 3 3 2 2 ...\n",
      " $ drinkbad : Factor w/ 5 levels \"1\",\"2\",\"3\",\"4\",..: 3 2 3 3 2 3 3 2 2 2 ...\n"
     ]
    }
   ],
   "source": [
    "print('Structure of the independent variables in the second round')\n",
    "str(X2)\n",
    "print('Structure of the independent variables in the third round')\n",
    "str(X3)"
   ]
  },
  {
   "cell_type": "markdown",
   "metadata": {},
   "source": [
    "## Tree 2nd round"
   ]
  },
  {
   "cell_type": "markdown",
   "metadata": {},
   "source": [
    "### Currently drinks round 2"
   ]
  },
  {
   "cell_type": "code",
   "execution_count": 57,
   "metadata": {},
   "outputs": [
    {
     "data": {
      "text/plain": [
       "\n",
       "Call:\n",
       " randomForest(formula = Y2.train$cda2 ~ ., data = X2.train, proximity = T,      importance = T) \n",
       "               Type of random forest: classification\n",
       "                     Number of trees: 500\n",
       "No. of variables tried at each split: 3\n",
       "\n",
       "        OOB estimate of  error rate: 42.4%\n",
       "Confusion matrix:\n",
       "               does not drink drinks class.error\n",
       "does not drink             89    461   0.8381818\n",
       "drinks                    136    722   0.1585082"
      ]
     },
     "metadata": {},
     "output_type": "display_data"
    },
    {
     "data": {
      "image/png": "[encoded data removed]",
      "text/plain": [
       "plot without title"
      ]
     },
     "metadata": {},
     "output_type": "display_data"
    }
   ],
   "source": [
    "source('auxiliary/cda2.R')\n",
    "rf.cda2\n",
    "ggplot(data=oob.error.data, aes(x=Trees, y=Error)) + geom_line(aes(color=Type))\n",
    "options(repr.plot.width=5, repr.plot.height=3.1)"
   ]
  },
  {
   "cell_type": "code",
   "execution_count": 58,
   "metadata": {},
   "outputs": [
    {
     "ename": "ERROR",
     "evalue": "Error in UseMethod(\"importance\"): нет подходящего метода для 'importance' применяемого к объекту класса \"c('randomForest.formula', 'randomForest')\"\n",
     "output_type": "error",
     "traceback": [
      "Error in UseMethod(\"importance\"): нет подходящего метода для 'importance' применяемого к объекту класса \"c('randomForest.formula', 'randomForest')\"\nTraceback:\n",
      "1. importance(rf.cda2)"
     ]
    }
   ],
   "source": [
    "importance(rf.cda2)"
   ]
  },
  {
   "cell_type": "code",
   "execution_count": null,
   "metadata": {},
   "outputs": [],
   "source": [
    "source('auxiliary/cda22.R')\n",
    "rff.cda2\n",
    "\n",
    "#To see if 1000 trees is enough for optimal classification, we can plot the error rates for ntree=1000\n",
    "ggplot(data=oob.error.data, aes(x=Trees, y=Error)) + geom_line(aes(color=Type))\n",
    "options(repr.plot.width=5, repr.plot.height=3.1)"
   ]
  },
  {
   "cell_type": "code",
   "execution_count": 59,
   "metadata": {},
   "outputs": [],
   "source": [
    "## adding more trees did not help \n"
   ]
  },
  {
   "cell_type": "code",
   "execution_count": 60,
   "metadata": {},
   "outputs": [
    {
     "data": {
      "text/html": [
       "<ol class=list-inline>\n",
       "\t<li>0.391335227272727</li>\n",
       "\t<li>0.416193181818182</li>\n",
       "\t<li>0.424005681818182</li>\n",
       "\t<li>0.421875</li>\n",
       "\t<li>0.423295454545455</li>\n",
       "\t<li>0.424005681818182</li>\n",
       "\t<li>0.428977272727273</li>\n",
       "\t<li>0.430397727272727</li>\n",
       "\t<li>0.421875</li>\n",
       "\t<li>0.436789772727273</li>\n",
       "</ol>\n"
      ],
      "text/latex": [
       "\\begin{enumerate*}\n",
       "\\item 0.391335227272727\n",
       "\\item 0.416193181818182\n",
       "\\item 0.424005681818182\n",
       "\\item 0.421875\n",
       "\\item 0.423295454545455\n",
       "\\item 0.424005681818182\n",
       "\\item 0.428977272727273\n",
       "\\item 0.430397727272727\n",
       "\\item 0.421875\n",
       "\\item 0.436789772727273\n",
       "\\end{enumerate*}\n"
      ],
      "text/markdown": [
       "1. 0.391335227272727\n",
       "2. 0.416193181818182\n",
       "3. 0.424005681818182\n",
       "4. 0.421875\n",
       "5. 0.423295454545455\n",
       "6. 0.424005681818182\n",
       "7. 0.428977272727273\n",
       "8. 0.430397727272727\n",
       "9. 0.421875\n",
       "10. 0.436789772727273\n",
       "\n",
       "\n"
      ],
      "text/plain": [
       " [1] 0.3913352 0.4161932 0.4240057 0.4218750 0.4232955 0.4240057 0.4289773\n",
       " [8] 0.4303977 0.4218750 0.4367898"
      ]
     },
     "metadata": {},
     "output_type": "display_data"
    },
    {
     "data": {
      "image/png": "[encoded data removed]",
      "text/plain": [
       "plot without title"
      ]
     },
     "metadata": {},
     "output_type": "display_data"
    }
   ],
   "source": [
    "##now we need to make sure that I am considering the optimal number of variables at each internal node in the tree\n",
    "oob.values<-vector(length=10)\n",
    "for (i in 1:10) {\n",
    "    temp.model<-randomForest(Y2.train$cda2~., data=X2.train, mtry=i, ntree=500)\n",
    "    oob.values[i]<-temp.model$err.rate[nrow(temp.model$err.rate),1]\n",
    "}\n",
    "oob.values\n",
    "plot(oob.values,\n",
    "     xlab = \"Tree Size\", \n",
    "     ylab = \"OOB\")\n",
    "options(repr.plot.width=3, repr.plot.height=3)"
   ]
  },
  {
   "cell_type": "markdown",
   "metadata": {},
   "source": [
    "### Currently smokes round 2 "
   ]
  },
  {
   "cell_type": "code",
   "execution_count": 111,
   "metadata": {},
   "outputs": [
    {
     "data": {
      "text/plain": [
       "\n",
       "Call:\n",
       " randomForest(formula = Y2.train$csmoke2 ~ ., data = X2.train,      proximity = T, importance = T) \n",
       "               Type of random forest: classification\n",
       "                     Number of trees: 500\n",
       "No. of variables tried at each split: 3\n",
       "\n",
       "        OOB estimate of  error rate: 4.97%\n",
       "Confusion matrix:\n",
       "               does not smoke smokes class.error\n",
       "does not smoke           1911      0           0\n",
       "smokes                    100      0           1"
      ]
     },
     "metadata": {},
     "output_type": "display_data"
    },
    {
     "data": {
      "image/png": "[encoded data removed]",
      "text/plain": [
       "plot without title"
      ]
     },
     "metadata": {},
     "output_type": "display_data"
    }
   ],
   "source": [
    "rf.csmoke2<-randomForest(formula=Y2.train$csmoke2~., data=X2.train,proximity=T, importance=T)\n",
    "#ntree=500,mtry=3,\n",
    "rf.csmoke2\n",
    "#rf.cda2.pred<-predict(rf.cda2,round2.x.test )\n",
    "#rf.cda2$err.rate\n",
    "\n",
    "#To see if 500 trees is enough for optimal classification, we can plot the error rates\n",
    "oob.error.data<-data.frame( \n",
    "    Trees=rep(1:nrow(rf.csmoke2$err.rate), times=3),\n",
    "    Type=rep(c(\"OOB\", \"does not smoke\", \"smokes\"), each=nrow(rf.csmoke2$err.rate)),\n",
    "    Error=c(rf.csmoke2$err.rate[,\"OOB\"],\n",
    "           rf.csmoke2$err.rate[,\"does not smoke\"],\n",
    "           rf.csmoke2$err.rate[,'smokes']))\n",
    "ggplot(data=oob.error.data, aes(x=Trees, y=Error)) + geom_line(aes(color=Type))\n",
    "options(repr.plot.width=5, repr.plot.height=3)"
   ]
  },
  {
   "cell_type": "code",
   "execution_count": 109,
   "metadata": {},
   "outputs": [
    {
     "data": {
      "text/plain": [
       "\n",
       "Call:\n",
       " randomForest(formula = Y2.train$csmoke2 ~ ., data = X2.train,      proximity = T, ntree = 1000, importance = T) \n",
       "               Type of random forest: classification\n",
       "                     Number of trees: 1000\n",
       "No. of variables tried at each split: 3\n",
       "\n",
       "        OOB estimate of  error rate: 4.97%\n",
       "Confusion matrix:\n",
       "               does not smoke smokes class.error\n",
       "does not smoke           1911      0           0\n",
       "smokes                    100      0           1"
      ]
     },
     "metadata": {},
     "output_type": "display_data"
    }
   ],
   "source": [
    "rff.csmoke2<-randomForest(formula=Y2.train$csmoke2~., data=X2.train,proximity=T, ntree=1000, importance=T)\n",
    "#,mtry=3,\n",
    "rff.csmoke2\n",
    "\n",
    "#To see if 1000 trees is enough for optimal classification, we can plot the error rates\n",
    "#oob.error.data<-data.frame( \n",
    "#    Trees=rep(1:nrow(rff.csmoke2$err.rate), times=3),\n",
    "#    Type=rep(c(\"OOB\", \"does not smoke\", \"smokes\"), each=nrow(rff.csmoke2$err.rate)),\n",
    "#    Error=c(rff.csmoke2$err.rate[,\"OOB\"],\n",
    "#           rff.csmoke2$err.rate[,\"does not smoke\"],\n",
    "#           rff.csmoke2$err.rate[,'smokes']))\n",
    "#ggplot(data=oob.error.data, aes(x=Trees, y=Error)) + geom_line(aes(color=Type))\n",
    "#options(repr.plot.width=5, repr.plot.height=3.2)"
   ]
  },
  {
   "cell_type": "code",
   "execution_count": 110,
   "metadata": {},
   "outputs": [
    {
     "data": {
      "text/html": [
       "<ol class=list-inline>\n",
       "\t<li>0.0497265042267529</li>\n",
       "\t<li>0.0497265042267529</li>\n",
       "\t<li>0.0497265042267529</li>\n",
       "\t<li>0.0502237692690204</li>\n",
       "\t<li>0.0502237692690204</li>\n",
       "\t<li>0.0502237692690204</li>\n",
       "\t<li>0.0502237692690204</li>\n",
       "\t<li>0.0507210343112879</li>\n",
       "\t<li>0.0502237692690204</li>\n",
       "\t<li>0.0502237692690204</li>\n",
       "</ol>\n"
      ],
      "text/latex": [
       "\\begin{enumerate*}\n",
       "\\item 0.0497265042267529\n",
       "\\item 0.0497265042267529\n",
       "\\item 0.0497265042267529\n",
       "\\item 0.0502237692690204\n",
       "\\item 0.0502237692690204\n",
       "\\item 0.0502237692690204\n",
       "\\item 0.0502237692690204\n",
       "\\item 0.0507210343112879\n",
       "\\item 0.0502237692690204\n",
       "\\item 0.0502237692690204\n",
       "\\end{enumerate*}\n"
      ],
      "text/markdown": [
       "1. 0.0497265042267529\n",
       "2. 0.0497265042267529\n",
       "3. 0.0497265042267529\n",
       "4. 0.0502237692690204\n",
       "5. 0.0502237692690204\n",
       "6. 0.0502237692690204\n",
       "7. 0.0502237692690204\n",
       "8. 0.0507210343112879\n",
       "9. 0.0502237692690204\n",
       "10. 0.0502237692690204\n",
       "\n",
       "\n"
      ],
      "text/plain": [
       " [1] 0.04972650 0.04972650 0.04972650 0.05022377 0.05022377 0.05022377\n",
       " [7] 0.05022377 0.05072103 0.05022377 0.05022377"
      ]
     },
     "metadata": {},
     "output_type": "display_data"
    },
    {
     "data": {
      "image/png": "[encoded data removed]",
      "text/plain": [
       "plot without title"
      ]
     },
     "metadata": {},
     "output_type": "display_data"
    }
   ],
   "source": [
    "##now we need to make sure that I am considering the optimal number of variables at each internal node in the tree\n",
    "oob.values<-vector(length=10)\n",
    "for (i in 1:10) {\n",
    "    temp.model<-randomForest(Y2.train$csmoke2~., data=X2.train, mtry=i, ntree=500)\n",
    "    oob.values[i]<-temp.model$err.rate[nrow(temp.model$err.rate),1]\n",
    "}\n",
    "oob.values\n",
    "plot(oob.values,\n",
    "     xlab = \"Tree Size\", \n",
    "     ylab = \"OOB\")\n",
    "options(repr.plot.width=5, repr.plot.height=5)"
   ]
  },
  {
   "cell_type": "markdown",
   "metadata": {},
   "source": [
    "### Droncew - Drinks at least once a week round 2"
   ]
  },
  {
   "cell_type": "code",
   "execution_count": 64,
   "metadata": {},
   "outputs": [
    {
     "data": {
      "text/plain": [
       "\n",
       "Call:\n",
       " randomForest(formula = Y2.train$droncew2 ~ ., data = X2.train,      proximity = T, importance = T, mtry = 4) \n",
       "               Type of random forest: classification\n",
       "                     Number of trees: 500\n",
       "No. of variables tried at each split: 4\n",
       "\n",
       "        OOB estimate of  error rate: 19.24%\n",
       "Confusion matrix:\n",
       "                           does not drink once a week drinks once a week\n",
       "does not drink once a week                       1622                  7\n",
       "drinks once a week                                380                  2\n",
       "                           class.error\n",
       "does not drink once a week 0.004297115\n",
       "drinks once a week         0.994764398"
      ]
     },
     "metadata": {},
     "output_type": "display_data"
    },
    {
     "data": {
      "image/png": "[encoded data removed]",
      "text/plain": [
       "plot without title"
      ]
     },
     "metadata": {},
     "output_type": "display_data"
    }
   ],
   "source": [
    "rf.droncew2<-randomForest(formula=Y2.train$droncew2~., data=X2.train,proximity=T, importance=T, mtry=4)\n",
    "#ntree=500,mtry=3,\n",
    "rf.droncew2\n",
    "#rf.cda2.pred<-predict(rf.cda2,round2.x.test )\n",
    "#rf.cda2$err.rate\n",
    "\n",
    "#To see if 500 trees is enough for optimal classification, we can plot the error rates\n",
    "oob.error.data<-data.frame( \n",
    "    Trees=rep(1:nrow(rf.droncew2$err.rate), times=3),\n",
    "    Type=rep(c(\"OOB\", \"does not drink once a week\", \"drinks once a week\"), each=nrow(rf.droncew2$err.rate)),\n",
    "    Error=c(rf.droncew2$err.rate[,\"OOB\"],\n",
    "           rf.droncew2$err.rate[,\"does not drink once a week\"],\n",
    "           rf.droncew2$err.rate[,'drinks once a week']))\n",
    "ggplot(data=oob.error.data, aes(x=Trees, y=Error)) + geom_line(aes(color=Type))\n",
    "options(repr.plot.width=6, repr.plot.height=3.1)"
   ]
  },
  {
   "cell_type": "code",
   "execution_count": 62,
   "metadata": {},
   "outputs": [
    {
     "data": {
      "text/html": [
       "<ol class=list-inline>\n",
       "\t<li>0.189955246146196</li>\n",
       "\t<li>0.190949776230731</li>\n",
       "\t<li>0.191944306315266</li>\n",
       "\t<li>0.190949776230731</li>\n",
       "\t<li>0.195922426653406</li>\n",
       "\t<li>0.195922426653406</li>\n",
       "\t<li>0.194430631526604</li>\n",
       "\t<li>0.194430631526604</li>\n",
       "\t<li>0.196916956737941</li>\n",
       "\t<li>0.196419691695674</li>\n",
       "</ol>\n"
      ],
      "text/latex": [
       "\\begin{enumerate*}\n",
       "\\item 0.189955246146196\n",
       "\\item 0.190949776230731\n",
       "\\item 0.191944306315266\n",
       "\\item 0.190949776230731\n",
       "\\item 0.195922426653406\n",
       "\\item 0.195922426653406\n",
       "\\item 0.194430631526604\n",
       "\\item 0.194430631526604\n",
       "\\item 0.196916956737941\n",
       "\\item 0.196419691695674\n",
       "\\end{enumerate*}\n"
      ],
      "text/markdown": [
       "1. 0.189955246146196\n",
       "2. 0.190949776230731\n",
       "3. 0.191944306315266\n",
       "4. 0.190949776230731\n",
       "5. 0.195922426653406\n",
       "6. 0.195922426653406\n",
       "7. 0.194430631526604\n",
       "8. 0.194430631526604\n",
       "9. 0.196916956737941\n",
       "10. 0.196419691695674\n",
       "\n",
       "\n"
      ],
      "text/plain": [
       " [1] 0.1899552 0.1909498 0.1919443 0.1909498 0.1959224 0.1959224 0.1944306\n",
       " [8] 0.1944306 0.1969170 0.1964197"
      ]
     },
     "metadata": {},
     "output_type": "display_data"
    },
    {
     "data": {
      "image/png": "[encoded data removed]",
      "text/plain": [
       "plot without title"
      ]
     },
     "metadata": {},
     "output_type": "display_data"
    }
   ],
   "source": [
    "##now we need to make sure that I am considering the optimal number of variables at each internal node in the tree\n",
    "oob.values<-vector(length=10)\n",
    "for (i in 1:10) {\n",
    "    temp.model<-randomForest(Y2.train$droncew2~., data=X2.train, mtry=i, ntree=500)\n",
    "    oob.values[i]<-temp.model$err.rate[nrow(temp.model$err.rate),1]\n",
    "}\n",
    "oob.values\n",
    "plot(oob.values,\n",
    "     xlab = \"Tree Size\", \n",
    "     ylab = \"OOB\")\n",
    "options(repr.plot.width=5, repr.plot.height=5)"
   ]
  },
  {
   "cell_type": "markdown",
   "metadata": {},
   "source": [
    "### Drevd Drinks every day round 2 "
   ]
  },
  {
   "cell_type": "code",
   "execution_count": 65,
   "metadata": {},
   "outputs": [
    {
     "data": {
      "text/plain": [
       "\n",
       "Call:\n",
       " randomForest(formula = Y2.train$drevd2 ~ ., data = X2.train,      proximity = T, importance = T) \n",
       "               Type of random forest: classification\n",
       "                     Number of trees: 500\n",
       "No. of variables tried at each split: 3\n",
       "\n",
       "        OOB estimate of  error rate: 1.99%\n",
       "Confusion matrix:\n",
       "                         does not dirnk every day drinks every day class.error\n",
       "does not dirnk every day                     1971                0           0\n",
       "drinks every day                               40                0           1"
      ]
     },
     "metadata": {},
     "output_type": "display_data"
    },
    {
     "ename": "ERROR",
     "evalue": "Error in rf.drevd2$err.rate[, \"does not drink every day\"]: подгруппа выходит за пределы\n",
     "output_type": "error",
     "traceback": [
      "Error in rf.drevd2$err.rate[, \"does not drink every day\"]: подгруппа выходит за пределы\nTraceback:\n",
      "1. data.frame(Trees = rep(1:nrow(rf.drevd2$err.rate), times = 3), \n .     Type = rep(c(\"OOB\", \"does not drink every day\", \"drinks every day\"), \n .         each = nrow(rf.drevd2$err.rate)), Error = c(rf.drevd2$err.rate[, \n .         \"OOB\"], rf.drevd2$err.rate[, \"does not drink every day\"], \n .         rf.drevd2$err.rate[, \"drinks every day\"]))"
     ]
    }
   ],
   "source": [
    "rf.drevd2<-randomForest(formula=Y2.train$drevd2~., data=X2.train,proximity=T, importance=T)\n",
    "#ntree=500,mtry=3,\n",
    "rf.drevd2\n",
    "#rf.cda2.pred<-predict(rf.cda2,round2.x.test )\n",
    "#rf.cda2$err.rate\n",
    "\n",
    "#To see if 500 trees is enough for optimal classification, we can plot the error rates\n",
    "oob.error.data<-data.frame( \n",
    "    Trees=rep(1:nrow(rf.drevd2$err.rate), times=3),\n",
    "    Type=rep(c(\"OOB\", \"does not drink every day\", \"drinks every day\"), each=nrow(rf.drevd2$err.rate)),\n",
    "    Error=c(rf.drevd2$err.rate[,\"OOB\"],\n",
    "           rf.drevd2$err.rate[,\"does not drink every day\"],\n",
    "           rf.drevd2$err.rate[,'drinks every day']))\n",
    "#ggplot(data=oob.error.data, aes(x=Trees, y=Error)) + geom_line(aes(color=Type))\n",
    "#options(repr.plot.width=5, repr.plot.height=3.1)"
   ]
  },
  {
   "cell_type": "markdown",
   "metadata": {},
   "source": [
    "## Tree 3rd round"
   ]
  },
  {
   "cell_type": "code",
   "execution_count": 74,
   "metadata": {},
   "outputs": [
    {
     "data": {
      "text/plain": [
       "\n",
       "Call:\n",
       " randomForest(formula = Y3.train$cda3 ~ ., data = X3.train, ntree = 500,      mtry = 3, importance = T) \n",
       "               Type of random forest: classification\n",
       "                     Number of trees: 500\n",
       "No. of variables tried at each split: 3\n",
       "\n",
       "        OOB estimate of  error rate: 27%\n",
       "Confusion matrix:\n",
       "               does not drink drinks class.error\n",
       "does not drink              8    535 0.985267035\n",
       "drinks                      8   1460 0.005449591"
      ]
     },
     "metadata": {},
     "output_type": "display_data"
    }
   ],
   "source": [
    "rf.cda3<-randomForest(formula=Y3.train$cda3~., \n",
    "             data=X3.train, ntree=500, mtry=3, importance=T)\n",
    "rf.cda3\n",
    "#rf.cda3.pred<-predict(rf.cda3,round3.data.test )\n"
   ]
  },
  {
   "cell_type": "code",
   "execution_count": 36,
   "metadata": {},
   "outputs": [],
   "source": [
    "?data.frame"
   ]
  },
  {
   "cell_type": "code",
   "execution_count": null,
   "metadata": {},
   "outputs": [],
   "source": []
  },
  {
   "cell_type": "markdown",
   "metadata": {},
   "source": [
    "## Results"
   ]
  },
  {
   "cell_type": "code",
   "execution_count": null,
   "metadata": {},
   "outputs": [],
   "source": []
  },
  {
   "cell_type": "markdown",
   "metadata": {},
   "source": [
    "## OLS Results for the third round"
   ]
  },
  {
   "cell_type": "code",
   "execution_count": 15,
   "metadata": {
    "scrolled": true
   },
   "outputs": [
    {
     "name": "stderr",
     "output_type": "stream",
     "text": [
      "Warning message in predict.lm(ols.csmoke3, round3.data.test):\n",
      "“prediction from a rank-deficient fit may be misleading”"
     ]
    },
    {
     "data": {
      "text/html": [
       "0.113830321284891"
      ],
      "text/latex": [
       "0.113830321284891"
      ],
      "text/markdown": [
       "0.113830321284891"
      ],
      "text/plain": [
       "[1] 0.1138303"
      ]
     },
     "metadata": {},
     "output_type": "display_data"
    },
    {
     "name": "stderr",
     "output_type": "stream",
     "text": [
      "Warning message in predict.lm(ols.cda3, round3.data.test):\n",
      "“prediction from a rank-deficient fit may be misleading”"
     ]
    },
    {
     "data": {
      "text/html": [
       "0.198047523582257"
      ],
      "text/latex": [
       "0.198047523582257"
      ],
      "text/markdown": [
       "0.198047523582257"
      ],
      "text/plain": [
       "[1] 0.1980475"
      ]
     },
     "metadata": {},
     "output_type": "display_data"
    },
    {
     "name": "stderr",
     "output_type": "stream",
     "text": [
      "Warning message in predict.lm(ols.droncew3, round3.data.test):\n",
      "“prediction from a rank-deficient fit may be misleading”"
     ]
    },
    {
     "data": {
      "text/html": [
       "0.249606103578489"
      ],
      "text/latex": [
       "0.249606103578489"
      ],
      "text/markdown": [
       "0.249606103578489"
      ],
      "text/plain": [
       "[1] 0.2496061"
      ]
     },
     "metadata": {},
     "output_type": "display_data"
    },
    {
     "name": "stderr",
     "output_type": "stream",
     "text": [
      "Warning message in predict.lm(ols.drevd3, round3.data.test):\n",
      "“prediction from a rank-deficient fit may be misleading”"
     ]
    },
    {
     "data": {
      "text/html": [
       "0.113890048101784"
      ],
      "text/latex": [
       "0.113890048101784"
      ],
      "text/markdown": [
       "0.113890048101784"
      ],
      "text/plain": [
       "[1] 0.11389"
      ]
     },
     "metadata": {},
     "output_type": "display_data"
    },
    {
     "name": "stderr",
     "output_type": "stream",
     "text": [
      "Warning message in predict.lm(ols.drfr3, round3.data.test):\n",
      "“prediction from a rank-deficient fit may be misleading”"
     ]
    },
    {
     "data": {
      "text/html": [
       "0.544937731505907"
      ],
      "text/latex": [
       "0.544937731505907"
      ],
      "text/markdown": [
       "0.544937731505907"
      ],
      "text/plain": [
       "[1] 0.5449377"
      ]
     },
     "metadata": {},
     "output_type": "display_data"
    },
    {
     "name": "stderr",
     "output_type": "stream",
     "text": [
      "Warning message in predict.lm(ols.smkbad, round3.data.test):\n",
      "“prediction from a rank-deficient fit may be misleading”"
     ]
    },
    {
     "data": {
      "text/html": [
       "0.408342505523686"
      ],
      "text/latex": [
       "0.408342505523686"
      ],
      "text/markdown": [
       "0.408342505523686"
      ],
      "text/plain": [
       "[1] 0.4083425"
      ]
     },
     "metadata": {},
     "output_type": "display_data"
    },
    {
     "name": "stderr",
     "output_type": "stream",
     "text": [
      "Warning message in predict.lm(ols.drinkbad, round3.data.test):\n",
      "“prediction from a rank-deficient fit may be misleading”"
     ]
    },
    {
     "data": {
      "text/html": [
       "0.367354878149914"
      ],
      "text/latex": [
       "0.367354878149914"
      ],
      "text/markdown": [
       "0.367354878149914"
      ],
      "text/plain": [
       "[1] 0.3673549"
      ]
     },
     "metadata": {},
     "output_type": "display_data"
    }
   ],
   "source": [
    "######## Currently smokes\n",
    "ols.csmoke3<-lm(csmoke3~ffs+lfi+perf+age+finhigh+yearssch+cwork3+hpw3+epw3+dipw3+treat+frpsmoke3+frpdrink3, \n",
    "                data=round3.data.train)\n",
    "ols.csmoke3.pred<-predict(ols.csmoke3, round3.data.test)\n",
    "MSE(ols.csmoke3.pred, round3.data.test$csmoke3)\n",
    "####### Currently drinks\n",
    "ols.cda3<-lm(cda3~ffs+lfi+perf+age+finhigh+yearssch+cwork3+hpw3+epw3+dipw3+treat+frpsmoke3+frpdrink3, \n",
    "             data=round3.data.train)\n",
    "ols.cda3.pred<-predict(ols.cda3, round3.data.test)\n",
    "MSE(ols.cda3.pred, round3.data.test$cda3)\n",
    "####### Drinks once a week\n",
    "ols.droncew3<-lm(droncew3~ffs+lfi+perf+age+finhigh+yearssch+cwork3+hpw3+epw3+dipw3+treat+frpsmoke3+frpdrink3, \n",
    "                 data=round3.data.train)\n",
    "ols.droncew3.pred<-predict(ols.droncew3, round3.data.test)\n",
    "MSE(ols.droncew3.pred, round3.data.test$droncew3)\n",
    "####### Drinks every day \n",
    "ols.drevd3<-lm(drevd3~ffs+lfi+perf+age+finhigh+yearssch+cwork3+hpw3+epw3+dipw3+treat+frpsmoke3+frpdrink3, \n",
    "               data=round3.data.train)\n",
    "ols.drevd3.pred<-predict(ols.drevd3, round3.data.test)\n",
    "MSE(ols.drevd3.pred, round3.data.test$drevd3)\n",
    "####### Drinking frequency \n",
    "ols.drfr3<-lm(drfr3~ffs+lfi+perf+age+finhigh+yearssch+cwork3+hpw3+epw3+dipw3+treat+frpsmoke3+frpdrink3, \n",
    "              data=round3.data.train)\n",
    "ols.drfr3.pred<-predict(ols.drfr3, round3.data.test)\n",
    "MSE(ols.drfr3.pred, round3.data.test$drfr3)\n",
    "###### Smoking is bad\n",
    "ols.smkbad<-lm(smkbad~ffs+lfi+perf+age+finhigh+yearssch+cwork3+hpw3+epw3+dipw3+treat+frpsmoke3+frpdrink3, \n",
    "               data=round3.data.train)\n",
    "ols.smkbad.pred<-predict(ols.smkbad, round3.data.test)\n",
    "MSE(ols.smkbad.pred, round3.data.test$smkbad)\n",
    "###### Drinking is bad\n",
    "ols.drinkbad<-lm(drinkbad~ffs+lfi+perf+age+finhigh+yearssch+cwork3+hpw3+epw3+dipw3+treat+frpsmoke3+frpdrink3, \n",
    "                 data=round3.data.train)\n",
    "ols.drinkbad.pred<-predict(ols.drinkbad, round3.data.test)\n",
    "MSE(ols.drinkbad.pred, round3.data.test$drinkbad)\n",
    "\n"
   ]
  },
  {
   "cell_type": "markdown",
   "metadata": {},
   "source": [
    "## OLS Results for the second round"
   ]
  },
  {
   "cell_type": "code",
   "execution_count": 49,
   "metadata": {},
   "outputs": [
    {
     "name": "stderr",
     "output_type": "stream",
     "text": [
      "Warning message in model.response(mf, \"numeric\"):\n",
      "“using type = \"numeric\" with a factor response will be ignored”Warning message in Ops.factor(y, z$residuals):\n",
      "“‘-’ not meaningful for factors”"
     ]
    },
    {
     "ename": "ERROR",
     "evalue": "Error in model.frame.default(Terms, newdata, na.action = na.action, xlev = object$xlevels): factor lfi has new levels 7.07492783422276, 7.13106968431062, 7.13205824154341, 7.23252878603557, 7.2413416263179, 7.24701310825938, 7.25739301431912, 7.30718267554453, 7.32075402047526, 7.32504448869126, 7.34004247575345, 7.34114304106801, 7.34149385372814, 7.34847484165904, 7.35314290527505, 7.37031709237462, 7.38929897330037, 7.39612909933856, 7.40047848209824, 7.40715218443826, 7.41115646369178, 7.42100588515437, 7.42239194153543, 7.43479047319743, 7.44236526145253, 7.44700916562583, 7.4477273140587, 7.44867165481766, 7.45271990189723, 7.46260371443999, 7.47029626152457, 7.47171621458058, 7.4765652964206, 7.48901487959909, 7.48933244518296, 7.49249424970114, 7.49434019491703, 7.49652227506641, 7.49717190606557, 7.50103977852013, 7.50240640479962, 7.50293941242345, 7.51258877991813, 7.52021294936381, 7.52270401098968, 7.52377020591535, 7.52463846439885, 7.52962041472542, 7.53184332580563, 7.53516908589326, 7.54175563649529, 7.5424028342884, 7.54543149652121, 7.54625272335826, 7.54828804424362, 7.54972899432239, 7.557381436018, 7.5593191169025, 7.56867445353484, 7.56965867359895, 7.57074281851423, 7.57106432927872, 7.57846025495087, 7.57991259888954, 7.58079473722974, 7.58271212842904, 7.58335684581363, 7.58455348551897, 7.59041446201156, 7.59143936674955, 7.59238299984759, 7.59351954294309, 7.59573993573346, 7.59690456035133, 7.59870773173582, 7.60051139325767, 7.60362324917029, 7.60809942931269, 7.60841742129848, 7.60904345905921, 7.60944549583001, 7.61062254297019, 7.61067885910135, 7.6183840420111, 7.61839745112739, 7.61897745494672, 7.61925965983996, 7.61933155195762, 7.62208279023902, 7.62332198039228, 7.62369467612066, 7.63013011852402, 7.63170313223744, 7.63175123104522, 7.63267340551232, 7.6345222948907, 7.63565213143723, 7.63891845054899, 7.64027488092382, 7.64145555885806, 7.64162765667701, 7.64909206555187, 7.64980464615161, 7.65157857633186, 7.65455624037449, 7.65780808442237, 7.65842084686476, 7.66541383674181, 7.66779303128091, 7.66786763004229, 7.66927422335244, 7.66940546216555, 7.67010499523372, 7.67159760218867, 7.67260971121892, 7.67591049919323, 7.67839912259722, 7.67910586907515, 7.68110887213741, 7.68133190261385, 7.68216401771426, 7.68287530684093, 7.68304870606374, 7.68362555324434, 7.68559656075114, 7.6860625683752, 7.6860934431877, 7.68646567815459, 7.68863483604927, 7.6897898374511, 7.6912560322725, 7.69321800579554, 7.69321969675443, 7.69476286482448, 7.69486623967813, 7.69562578319189, 7.69854972622803, 7.70146348575398, 7.70280787266, 7.70400184803614, 7.70435346871782, 7.70755625322128, 7.70831447625625, 7.70867023482045, 7.70886866353199, 7.70903079049215, 7.71121345453335, 7.71286179928931, 7.71329700439846, 7.71468821302462, 7.7162017424341, 7.71715411432648, 7.71809671281106, 7.71884416288025, 7.72234556736795, 7.72519209204216, 7.7253106220637, 7.72690172733576, 7.72701218158366, 7.727812914158, 7.72834941310272, 7.73023485846728, 7.73209357647244, 7.73501162389568, 7.73569840856752, 7.73707596944173, 7.73896545024029, 7.74179348038934, 7.74179414815278, 7.74224159185382, 7.74264378071289, 7.74349459024772, 7.74372039798104, 7.74373555854928, 7.74473823147332, 7.7450832418767, 7.74581379704276, 7.74821831649385, 7.74925645432909, 7.74933145540486, 7.75079401528758, 7.75317702443601, 7.75350753348224, 7.75352624911638, 7.75454605818949, 7.75464419971557, 7.7589523222195, 7.7596907618274, 7.76101947202626, 7.76228143341399, 7.76232136316788, 7.76234421588414, 7.76308124840658, 7.76450383963174, 7.76460029965344, 7.76482803475623, 7.76604962206374, 7.76755060007163, 7.76846197062095, 7.76855547514383, 7.76976716344827, 7.77057676271846, 7.77198363681963, 7.77214712949176, 7.77252839603555, 7.77266953629616, 7.7731720557128, 7.77355591416704, 7.77395911100165, 7.7757883496394, 7.77597736957168, 7.77781982628319, 7.7806784200395, 7.78333444318508, 7.78339808589218, 7.78460400571886, 7.78490823695461, 7.78521574721089, 7.78701471088647, 7.78910535496829, 7.79003310626525, 7.79077982895323, 7.79100469408422, 7.79252926071019, 7.79264837562529, 7.79291662735846, 7.79303207325544, 7.79320773345437, 7.79580965239288, 7.79596488090817, 7.79701758983043, 7.79707803534699, 7.7979505195266, 7.7983138956221, 7.79883108929532, 7.79889932294907, 7.80028470515087, 7.80190782175325, 7.80407736905878, 7.80511397721952, 7.80544596990404, 7.80665854911942, 7.80839155890413, 7.80937708101069, 7.8138465913519, 7.81551373171084, 7.81618315144407, 7.81779086204906, 7.8180324849101, 7.81831807590124, 7.81928897359308, 7.82065252807115, 7.82094628835959, 7.82240022374007, 7.82305614187079, 7.8230714120216, 7.82311836696673, 7.82351107092771, 7.82385039610925, 7.82420618075364, 7.82443204053378, 7.82564789659678, 7.82575828706306, 7.82609875060712, 7.82613803637563, 7.82634874228246, 7.82672040220037, 7.8268994250446, 7.82749285705143, 7.82871044816373, 7.82920030355154, 7.83006741414529, 7.83016699018224, 7.83018814244669, 7.83113361626803, 7.83120160905234, 7.83154574834115, 7.83182848606879, 7.83223236773023, 7.8327973599166, 7.8330550657915, 7.8331073920518, 7.83313290273878, 7.8332175690471, 7.83366439990418, 7.83429203228367, 7.83447625510597, 7.83488734119728, 7.83538861771254, 7.83554890811911, 7.8378376199683, 7.83826990004561, 7.83921980030905, 7.83992005870492, 7.84043039121183, 7.84077190084156, 7.84077830517063, 7.84149234045392, 7.84382960409932, 7.84418804118561, 7.84425490493274, 7.84532523954727, 7.84586423515849, 7.8467820273378, 7.84733692902822, 7.84760280682879, 7.84788997533429, 7.8496569088693, 7.85218976512716, 7.85300931780193, 7.85456070985878, 7.85474429095281, 7.85492853383645, 7.85510497908563, 7.85670116642856, 7.85711451057077, 7.85778850528331, 7.85846183242227, 7.85878449904305, 7.86011758713125, 7.86091621211602, 7.86130070006872, 7.86136069881297, 7.86302636346799, 7.86339407252687, 7.86457719018104, 7.86475710244832, 7.86486564795593, 7.86497440646517, 7.86529968509016, 7.86624923052372, 7.86683019159682, 7.86718313116036, 7.86728288393042, 7.86787553617937, 7.86820406851726, 7.86836723592313, 7.86870131752656, 7.86894496889937, 7.86911477061625, 7.8695036984678, 7.86997561168311, 7.87018680390734, 7.87261289261414, 7.87279235774606, 7.87327276369109, 7.87430775776779, 7.87436824183798, 7.87470004790929, 7.87545880089663, 7.87575102491045, 7.87647748723744, 7.87801118056875, 7.8781189929006, 7.87819416496822, 7.87916758264484, 7.87994181496399, 7.88010536367011, 7.88195414399537, 7.88213347045038, 7.88243606724674, 7.88294951915863, 7.88474817575303, 7.8847860367365, 7.88518316469136, 7.88565254563596, 7.8867949830541, 7.88728805190272, 7.88814865080244, 7.88855296775482, 7.88940504055901, 7.89021516363949, 7.89031852521937, 7.890976127509, 7.89321432823632, 7.89348368190558, 7.8945564089584, 7.89533737728785, 7.89570793261541, 7.89588925984456, 7.8960315740714, 7.89605318698952, 7.89678892081936, 7.89696768812291, 7.89705902427276, 7.8975273474264, 7.89892278816361, 7.89965706908, 7.90072602980132, 7.90183850677564, 7.90221228329853, 7.90222295642327, 7.90237288335221, 7.90330045891123, 7.9038385013279, 7.90477095440455, 7.90492417822818, 7.905639109018, 7.90617085139636, 7.90634589645815, 7.90637167029871, 7.90762945936087, 7.9076799485927, 7.90801944466797, 7.90921670944795, 7.90951467572672, 7.91014980662685, 7.91038608448414, 7.91094695796443, 7.91105977221006, 7.91133126467799, 7.91231679060183, 7.91375655405287, 7.91442381802889, 7.91540240160844, 7.91581041664624, 7.91603535960442, 7.91738257467181, 7.91877614843641, 7.91985299495326, 7.92085971700053, 7.92108360445958, 7.92218659306506, 7.92231891216581, 7.92366287792212, 7.92454933009549, 7.92767901084398, 7.92772143765385, 7.9284961672518, 7.9287856497812, 7.92909316745177, 7.93021958383156, 7.93121141558151, 7.93165989617681, 7.93178995567093, 7.93203792974179, 7.93246770301407, 7.93268219466719, 7.93368455045876, 7.93376356681851, 7.93387586828453, 7.93430519699881, 7.9349420161072, 7.93503070417432, 7.93564458833941, 7.9358706417561, 7.93599414700284, 7.93711184729142, 7.93743628585972, 7.93788476997254, 7.93802692971993, 7.93833885686776, 7.93852366145206, 7.93914644488335, 7.9417889280516, 7.94235408316943, 7.94243889177588\n",
     "output_type": "error",
     "traceback": [
      "Error in model.frame.default(Terms, newdata, na.action = na.action, xlev = object$xlevels): factor lfi has new levels 7.07492783422276, 7.13106968431062, 7.13205824154341, 7.23252878603557, 7.2413416263179, 7.24701310825938, 7.25739301431912, 7.30718267554453, 7.32075402047526, 7.32504448869126, 7.34004247575345, 7.34114304106801, 7.34149385372814, 7.34847484165904, 7.35314290527505, 7.37031709237462, 7.38929897330037, 7.39612909933856, 7.40047848209824, 7.40715218443826, 7.41115646369178, 7.42100588515437, 7.42239194153543, 7.43479047319743, 7.44236526145253, 7.44700916562583, 7.4477273140587, 7.44867165481766, 7.45271990189723, 7.46260371443999, 7.47029626152457, 7.47171621458058, 7.4765652964206, 7.48901487959909, 7.48933244518296, 7.49249424970114, 7.49434019491703, 7.49652227506641, 7.49717190606557, 7.50103977852013, 7.50240640479962, 7.50293941242345, 7.51258877991813, 7.52021294936381, 7.52270401098968, 7.52377020591535, 7.52463846439885, 7.52962041472542, 7.53184332580563, 7.53516908589326, 7.54175563649529, 7.5424028342884, 7.54543149652121, 7.54625272335826, 7.54828804424362, 7.54972899432239, 7.557381436018, 7.5593191169025, 7.56867445353484, 7.56965867359895, 7.57074281851423, 7.57106432927872, 7.57846025495087, 7.57991259888954, 7.58079473722974, 7.58271212842904, 7.58335684581363, 7.58455348551897, 7.59041446201156, 7.59143936674955, 7.59238299984759, 7.59351954294309, 7.59573993573346, 7.59690456035133, 7.59870773173582, 7.60051139325767, 7.60362324917029, 7.60809942931269, 7.60841742129848, 7.60904345905921, 7.60944549583001, 7.61062254297019, 7.61067885910135, 7.6183840420111, 7.61839745112739, 7.61897745494672, 7.61925965983996, 7.61933155195762, 7.62208279023902, 7.62332198039228, 7.62369467612066, 7.63013011852402, 7.63170313223744, 7.63175123104522, 7.63267340551232, 7.6345222948907, 7.63565213143723, 7.63891845054899, 7.64027488092382, 7.64145555885806, 7.64162765667701, 7.64909206555187, 7.64980464615161, 7.65157857633186, 7.65455624037449, 7.65780808442237, 7.65842084686476, 7.66541383674181, 7.66779303128091, 7.66786763004229, 7.66927422335244, 7.66940546216555, 7.67010499523372, 7.67159760218867, 7.67260971121892, 7.67591049919323, 7.67839912259722, 7.67910586907515, 7.68110887213741, 7.68133190261385, 7.68216401771426, 7.68287530684093, 7.68304870606374, 7.68362555324434, 7.68559656075114, 7.6860625683752, 7.6860934431877, 7.68646567815459, 7.68863483604927, 7.6897898374511, 7.6912560322725, 7.69321800579554, 7.69321969675443, 7.69476286482448, 7.69486623967813, 7.69562578319189, 7.69854972622803, 7.70146348575398, 7.70280787266, 7.70400184803614, 7.70435346871782, 7.70755625322128, 7.70831447625625, 7.70867023482045, 7.70886866353199, 7.70903079049215, 7.71121345453335, 7.71286179928931, 7.71329700439846, 7.71468821302462, 7.7162017424341, 7.71715411432648, 7.71809671281106, 7.71884416288025, 7.72234556736795, 7.72519209204216, 7.7253106220637, 7.72690172733576, 7.72701218158366, 7.727812914158, 7.72834941310272, 7.73023485846728, 7.73209357647244, 7.73501162389568, 7.73569840856752, 7.73707596944173, 7.73896545024029, 7.74179348038934, 7.74179414815278, 7.74224159185382, 7.74264378071289, 7.74349459024772, 7.74372039798104, 7.74373555854928, 7.74473823147332, 7.7450832418767, 7.74581379704276, 7.74821831649385, 7.74925645432909, 7.74933145540486, 7.75079401528758, 7.75317702443601, 7.75350753348224, 7.75352624911638, 7.75454605818949, 7.75464419971557, 7.7589523222195, 7.7596907618274, 7.76101947202626, 7.76228143341399, 7.76232136316788, 7.76234421588414, 7.76308124840658, 7.76450383963174, 7.76460029965344, 7.76482803475623, 7.76604962206374, 7.76755060007163, 7.76846197062095, 7.76855547514383, 7.76976716344827, 7.77057676271846, 7.77198363681963, 7.77214712949176, 7.77252839603555, 7.77266953629616, 7.7731720557128, 7.77355591416704, 7.77395911100165, 7.7757883496394, 7.77597736957168, 7.77781982628319, 7.7806784200395, 7.78333444318508, 7.78339808589218, 7.78460400571886, 7.78490823695461, 7.78521574721089, 7.78701471088647, 7.78910535496829, 7.79003310626525, 7.79077982895323, 7.79100469408422, 7.79252926071019, 7.79264837562529, 7.79291662735846, 7.79303207325544, 7.79320773345437, 7.79580965239288, 7.79596488090817, 7.79701758983043, 7.79707803534699, 7.7979505195266, 7.7983138956221, 7.79883108929532, 7.79889932294907, 7.80028470515087, 7.80190782175325, 7.80407736905878, 7.80511397721952, 7.80544596990404, 7.80665854911942, 7.80839155890413, 7.80937708101069, 7.8138465913519, 7.81551373171084, 7.81618315144407, 7.81779086204906, 7.8180324849101, 7.81831807590124, 7.81928897359308, 7.82065252807115, 7.82094628835959, 7.82240022374007, 7.82305614187079, 7.8230714120216, 7.82311836696673, 7.82351107092771, 7.82385039610925, 7.82420618075364, 7.82443204053378, 7.82564789659678, 7.82575828706306, 7.82609875060712, 7.82613803637563, 7.82634874228246, 7.82672040220037, 7.8268994250446, 7.82749285705143, 7.82871044816373, 7.82920030355154, 7.83006741414529, 7.83016699018224, 7.83018814244669, 7.83113361626803, 7.83120160905234, 7.83154574834115, 7.83182848606879, 7.83223236773023, 7.8327973599166, 7.8330550657915, 7.8331073920518, 7.83313290273878, 7.8332175690471, 7.83366439990418, 7.83429203228367, 7.83447625510597, 7.83488734119728, 7.83538861771254, 7.83554890811911, 7.8378376199683, 7.83826990004561, 7.83921980030905, 7.83992005870492, 7.84043039121183, 7.84077190084156, 7.84077830517063, 7.84149234045392, 7.84382960409932, 7.84418804118561, 7.84425490493274, 7.84532523954727, 7.84586423515849, 7.8467820273378, 7.84733692902822, 7.84760280682879, 7.84788997533429, 7.8496569088693, 7.85218976512716, 7.85300931780193, 7.85456070985878, 7.85474429095281, 7.85492853383645, 7.85510497908563, 7.85670116642856, 7.85711451057077, 7.85778850528331, 7.85846183242227, 7.85878449904305, 7.86011758713125, 7.86091621211602, 7.86130070006872, 7.86136069881297, 7.86302636346799, 7.86339407252687, 7.86457719018104, 7.86475710244832, 7.86486564795593, 7.86497440646517, 7.86529968509016, 7.86624923052372, 7.86683019159682, 7.86718313116036, 7.86728288393042, 7.86787553617937, 7.86820406851726, 7.86836723592313, 7.86870131752656, 7.86894496889937, 7.86911477061625, 7.8695036984678, 7.86997561168311, 7.87018680390734, 7.87261289261414, 7.87279235774606, 7.87327276369109, 7.87430775776779, 7.87436824183798, 7.87470004790929, 7.87545880089663, 7.87575102491045, 7.87647748723744, 7.87801118056875, 7.8781189929006, 7.87819416496822, 7.87916758264484, 7.87994181496399, 7.88010536367011, 7.88195414399537, 7.88213347045038, 7.88243606724674, 7.88294951915863, 7.88474817575303, 7.8847860367365, 7.88518316469136, 7.88565254563596, 7.8867949830541, 7.88728805190272, 7.88814865080244, 7.88855296775482, 7.88940504055901, 7.89021516363949, 7.89031852521937, 7.890976127509, 7.89321432823632, 7.89348368190558, 7.8945564089584, 7.89533737728785, 7.89570793261541, 7.89588925984456, 7.8960315740714, 7.89605318698952, 7.89678892081936, 7.89696768812291, 7.89705902427276, 7.8975273474264, 7.89892278816361, 7.89965706908, 7.90072602980132, 7.90183850677564, 7.90221228329853, 7.90222295642327, 7.90237288335221, 7.90330045891123, 7.9038385013279, 7.90477095440455, 7.90492417822818, 7.905639109018, 7.90617085139636, 7.90634589645815, 7.90637167029871, 7.90762945936087, 7.9076799485927, 7.90801944466797, 7.90921670944795, 7.90951467572672, 7.91014980662685, 7.91038608448414, 7.91094695796443, 7.91105977221006, 7.91133126467799, 7.91231679060183, 7.91375655405287, 7.91442381802889, 7.91540240160844, 7.91581041664624, 7.91603535960442, 7.91738257467181, 7.91877614843641, 7.91985299495326, 7.92085971700053, 7.92108360445958, 7.92218659306506, 7.92231891216581, 7.92366287792212, 7.92454933009549, 7.92767901084398, 7.92772143765385, 7.9284961672518, 7.9287856497812, 7.92909316745177, 7.93021958383156, 7.93121141558151, 7.93165989617681, 7.93178995567093, 7.93203792974179, 7.93246770301407, 7.93268219466719, 7.93368455045876, 7.93376356681851, 7.93387586828453, 7.93430519699881, 7.9349420161072, 7.93503070417432, 7.93564458833941, 7.9358706417561, 7.93599414700284, 7.93711184729142, 7.93743628585972, 7.93788476997254, 7.93802692971993, 7.93833885686776, 7.93852366145206, 7.93914644488335, 7.9417889280516, 7.94235408316943, 7.94243889177588\nTraceback:\n",
      "1. predict(ols.csmoke2, round2.x.test)",
      "2. predict.lm(ols.csmoke2, round2.x.test)",
      "3. model.frame(Terms, newdata, na.action = na.action, xlev = object$xlevels)",
      "4. model.frame.default(Terms, newdata, na.action = na.action, xlev = object$xlevels)",
      "5. stop(sprintf(ngettext(length(m), \"factor %s has new level %s\", \n .     \"factor %s has new levels %s\"), nm, paste(nxl[m], collapse = \", \")), \n .     domain = NA)"
     ]
    }
   ],
   "source": [
    "######## Currently smokes\n",
    "ols.csmoke2<-lm(round2.y.train$csmoke2~., data=round2.x.train)\n",
    "ols.csmoke2.pred<-predict(ols.csmoke2, round2.x.test)\n",
    "MSE(ols.csmoke2.pred, round2.y.test$csmoke2)\n",
    "####### Currently drinks\n",
    "ols.cda2<-lm(cda2~., data=round2.x.train)\n",
    "ols.cda2.pred<-predict(ols.cda2, round2.x.test)\n",
    "MSE(ols.cda2.pred, round2.y.test$cda2)\n",
    "####### Drinks once a week\n",
    "ols.droncew2<-lm(droncew2~ffs+lfi+perf+age+returntosch+cwork2+hpw2+epw2+dipw2+treat+frpsmoke2+frpdrink2, \n",
    "                 data=round2.data.train)\n",
    "ols.droncew2.pred<-predict(ols.droncew2, round2.data.test)\n",
    "MSE(ols.droncew2.pred, round2.data.test$droncew2)\n",
    "####### Drinks every day \n",
    "ols.drevd2<-lm(drevd2~ffs+lfi+perf+age+returntosch+cwork2+hpw2+epw2+dipw2+treat+frpsmoke2+frpdrink2, \n",
    "               data=round2.data.train)\n",
    "ols.drevd2.pred<-predict(ols.drevd2, round2.data.test)\n",
    "MSE(ols.drevd2.pred, round2.data.test$drevd2)\n",
    "####### Drinking frequency \n",
    "ols.drfr2<-lm(drfr2~ffs+lfi+perf+age+returntosch+cwork2+hpw2+epw2+dipw2+treat+frpsmoke2+frpdrink2, \n",
    "              data=round2.data.train)\n",
    "ols.drfr2.pred<-predict(ols.drfr2, round2.data.test)\n",
    "MSE(ols.drfr2.pred, round2.data.test$drfr2)\n",
    "\n",
    "\n",
    " "
   ]
  }
 ],
 "metadata": {
  "kernelspec": {
   "display_name": "R",
   "language": "R",
   "name": "ir"
  },
  "language_info": {
   "codemirror_mode": "r",
   "file_extension": ".r",
   "mimetype": "text/x-r-source",
   "name": "R",
   "pygments_lexer": "r",
   "version": "3.6.1"
  }
 },
 "nbformat": 4,
 "nbformat_minor": 4
}
